{
 "cells": [
  {
   "cell_type": "code",
   "execution_count": null,
   "metadata": {},
   "outputs": [],
   "source": [
    "select * from data\n",
    "limit 10;"
   ]
  },
  {
   "cell_type": "code",
   "execution_count": null,
   "metadata": {},
   "outputs": [],
   "source": [
    "# left join\n",
    "select * from table_a as a\n",
    "left join table_b as b\n",
    "on b.id = a.id\n",
    "left join table_c as c\n",
    "on c.id = a.id"
   ]
  },
  {
   "cell_type": "code",
   "execution_count": null,
   "metadata": {},
   "outputs": [],
   "source": [
    "SELECT COUNT(DISTINCT user_id) AS enrollments,\n",
    "    COUNT(CASE\n",
    "        WHEN strftime(\"%m\", cancel_date) = '03'\n",
    "        THEN user_id\n",
    "  END) AS march_cancellations,\n",
    "    \n",
    "     ROUND(100.0 * COUNT(CASE\n",
    "        WHEN strftime(\"%m\", cancel_date) = '03'\n",
    "        THEN user_id\n",
    "  END) / COUNT(DISTINCT user_id)) AS churn_rate\n",
    "        \n",
    "FROM pro_users\n",
    "WHERE signup_date < '2017-04-01'\n",
    "    AND(\n",
    "    (cancel_date IS NULL) OR\n",
    "    (cancel_date > '2017-03-01')\n",
    "  );"
   ]
  },
  {
   "cell_type": "code",
   "execution_count": null,
   "metadata": {},
   "outputs": [],
   "source": [
    "# Aggregation\n",
    "\n",
    "SELECT sources,\n",
    "    COUNT(DISTINCT id) AS num_users\n",
    "FROM page_visits\n",
    "GROUP BY sources\n",
    "ORDER BY num_users DESC;"
   ]
  },
  {
   "cell_type": "markdown",
   "metadata": {},
   "source": [
    "### all variables"
   ]
  },
  {
   "cell_type": "code",
   "execution_count": null,
   "metadata": {},
   "outputs": [],
   "source": [
    "select * from news;"
   ]
  },
  {
   "cell_type": "code",
   "execution_count": null,
   "metadata": {},
   "outputs": [],
   "source": [
    "\"\"\"\n",
    "common variable types in SQL\n",
    "\n",
    "1. INTEGER\n",
    "2. TEXT\n",
    "3. DATE\n",
    "4. REAL\n",
    "\"\"\""
   ]
  },
  {
   "cell_type": "markdown",
   "metadata": {},
   "source": [
    "### create celebs table with 3 variable"
   ]
  },
  {
   "cell_type": "code",
   "execution_count": null,
   "metadata": {},
   "outputs": [],
   "source": [
    "CREATE TABLE celebs (\n",
    "   id INTEGER, \n",
    "   name TEXT, \n",
    "   age INTEGER\n",
    "   height REAL\n",
    "   birth day DATE\n",
    ");"
   ]
  },
  {
   "cell_type": "markdown",
   "metadata": {},
   "source": [
    "### creating table with contraints"
   ]
  },
  {
   "cell_type": "code",
   "execution_count": null,
   "metadata": {},
   "outputs": [],
   "source": [
    "CREATE TABLE awards (\n",
    "   id INTEGER PRIMARY KEY,\n",
    "   recipient TEXT NOT NULL,\n",
    "   award_name TEXT DEFAULT 'Grammy'\n",
    ");"
   ]
  },
  {
   "cell_type": "markdown",
   "metadata": {},
   "source": [
    "### insert new row"
   ]
  },
  {
   "cell_type": "code",
   "execution_count": null,
   "metadata": {},
   "outputs": [],
   "source": [
    "INSERT INTO celebs (id, name, age) \n",
    "VALUES (1, 'Justin Bieber', 22);"
   ]
  },
  {
   "cell_type": "markdown",
   "metadata": {},
   "source": [
    "### insert new column"
   ]
  },
  {
   "cell_type": "code",
   "execution_count": null,
   "metadata": {},
   "outputs": [],
   "source": [
    "ALTER TABLE celebs \n",
    "ADD COLUMN twitter_handle TEXT;"
   ]
  },
  {
   "cell_type": "markdown",
   "metadata": {},
   "source": [
    "### update a row"
   ]
  },
  {
   "cell_type": "code",
   "execution_count": null,
   "metadata": {},
   "outputs": [],
   "source": [
    "UPDATE celebs \n",
    "SET twitter_handle = '@taylorswift13' \n",
    "WHERE id = 4; "
   ]
  },
  {
   "cell_type": "markdown",
   "metadata": {},
   "source": [
    "### delete rows"
   ]
  },
  {
   "cell_type": "code",
   "execution_count": null,
   "metadata": {},
   "outputs": [],
   "source": [
    "DELETE FROM celebs \n",
    "WHERE twitter_handle IS NULL;"
   ]
  },
  {
   "cell_type": "markdown",
   "metadata": {},
   "source": [
    "# Query data"
   ]
  },
  {
   "cell_type": "code",
   "execution_count": null,
   "metadata": {},
   "outputs": [],
   "source": [
    "select * from data;"
   ]
  },
  {
   "cell_type": "code",
   "execution_count": null,
   "metadata": {},
   "outputs": [],
   "source": [
    "select year, name form data;"
   ]
  },
  {
   "cell_type": "code",
   "execution_count": null,
   "metadata": {},
   "outputs": [],
   "source": [
    "select distinct year from data;"
   ]
  },
  {
   "cell_type": "code",
   "execution_count": null,
   "metadata": {},
   "outputs": [],
   "source": [
    "select name from data\n",
    "where age > 25;"
   ]
  },
  {
   "cell_type": "code",
   "execution_count": null,
   "metadata": {},
   "outputs": [],
   "source": [
    "select * from movies\n",
    "where name like \"go_en\" # any letter in _"
   ]
  },
  {
   "cell_type": "code",
   "execution_count": null,
   "metadata": {},
   "outputs": [],
   "source": [
    "select * from movies\n",
    "where name like \"S%\""
   ]
  },
  {
   "cell_type": "code",
   "execution_count": null,
   "metadata": {},
   "outputs": [],
   "source": [
    "select * from data\n",
    "where name like \"%P\""
   ]
  },
  {
   "cell_type": "code",
   "execution_count": null,
   "metadata": {},
   "outputs": [],
   "source": [
    "select * from data\n",
    "where name like \"%peter%\""
   ]
  },
  {
   "cell_type": "code",
   "execution_count": null,
   "metadata": {},
   "outputs": [],
   "source": [
    "# selecting rows that do not contain the word \"box\" in name column\n",
    "select * from data\n",
    "where name not like \"%box%\";"
   ]
  },
  {
   "cell_type": "code",
   "execution_count": null,
   "metadata": {},
   "outputs": [],
   "source": [
    "# finding missing values\n",
    "select * from data\n",
    "where grade is null;"
   ]
  },
  {
   "cell_type": "code",
   "execution_count": null,
   "metadata": {},
   "outputs": [],
   "source": [
    "# between clause\n",
    "\"\"\"\n",
    "Using the BETWEEN operator, write a query that selects all information about \n",
    "data whose name begins with the letters ‘D’, ‘E’, and ‘F’.\n",
    "\n",
    "\"\"\"\n",
    "select * from data\n",
    "where name between \"D\" and \"G\";"
   ]
  },
  {
   "cell_type": "code",
   "execution_count": null,
   "metadata": {},
   "outputs": [],
   "source": [
    "# and clause\n",
    "\n",
    "select * from data\n",
    "where year between 1970 and 1979 and grade > 3;\n",
    "\n",
    "select * from aata\n",
    "where year < 1985 and class = \"primary\";\n"
   ]
  },
  {
   "cell_type": "code",
   "execution_count": null,
   "metadata": {},
   "outputs": [],
   "source": [
    "# or clause\n",
    "\n",
    "select * from data\n",
    "where year > 2010 or genre = \"action\";\n",
    "\n",
    "select * from movies \n",
    "where genre = \"thriller\" or genre = \"comedy\";"
   ]
  },
  {
   "cell_type": "code",
   "execution_count": null,
   "metadata": {},
   "outputs": [],
   "source": [
    "# order by\n",
    "\n",
    "select * from data\n",
    "where year > 2010\n",
    "order by grade desc;"
   ]
  },
  {
   "cell_type": "code",
   "execution_count": null,
   "metadata": {},
   "outputs": [],
   "source": [
    "# creating new column using case statement (similar to if-else statement)\n",
    "\n",
    "select name,\n",
    "    case\n",
    "        when year < 1980 then \"eights\"\n",
    "        when year < 1990 then \"ninetys\"\n",
    "        else \"other\"\n",
    "    end as \"millenium\"\n",
    "from data;\n",
    "\n",
    "\n",
    "select name,\n",
    "    case\n",
    "        when review > 7.5 then \"very good\"\n",
    "        when review > 6 then \"good\"\n",
    "        when review > 4 then \"average\"\n",
    "        when review >= 0 then \"bad\"\n",
    "    end as \"status\"\n",
    "from data;"
   ]
  },
  {
   "cell_type": "markdown",
   "metadata": {},
   "source": [
    "# Aggregation"
   ]
  },
  {
   "cell_type": "code",
   "execution_count": null,
   "metadata": {},
   "outputs": [],
   "source": [
    "# count\n",
    "select count(id)\n",
    "from data;"
   ]
  },
  {
   "cell_type": "code",
   "execution_count": null,
   "metadata": {},
   "outputs": [],
   "source": [
    "# sum\n",
    "select sum(salary)\n",
    "from data;"
   ]
  },
  {
   "cell_type": "code",
   "execution_count": null,
   "metadata": {},
   "outputs": [],
   "source": [
    "# max & min\n",
    "select max(price)\n",
    "from data;\n",
    "\n",
    "select min(grade)\n",
    "from data;\n"
   ]
  },
  {
   "cell_type": "code",
   "execution_count": null,
   "metadata": {},
   "outputs": [],
   "source": [
    "# average\n",
    "select avg(grade)\n",
    "from data"
   ]
  },
  {
   "cell_type": "code",
   "execution_count": null,
   "metadata": {},
   "outputs": [],
   "source": [
    "# rouding the number\n",
    "select name, round(price,2) \n",
    "from data;"
   ]
  },
  {
   "cell_type": "code",
   "execution_count": null,
   "metadata": {},
   "outputs": [],
   "source": [
    "# group by\n",
    "select \n",
    "    gender, \n",
    "    avg(salary)\n",
    "from data\n",
    "group by gender;"
   ]
  },
  {
   "cell_type": "code",
   "execution_count": null,
   "metadata": {},
   "outputs": [],
   "source": [
    "# having\n",
    "\n",
    "\"\"\"\n",
    "When we want to limit the results of a query based on values of the individual rows, use WHERE.\n",
    "When we want to limit the results of a query based on an aggregated property, use HAVING.\n",
    "\"\"\"\n",
    "select \n",
    "    grade,\n",
    "    avg(marks)\n",
    "from data\n",
    "group by grade\n",
    "having count(grade) > 10;"
   ]
  }
 ],
 "metadata": {
  "kernelspec": {
   "display_name": "Python 3",
   "language": "python",
   "name": "python3"
  },
  "language_info": {
   "codemirror_mode": {
    "name": "ipython",
    "version": 3
   },
   "file_extension": ".py",
   "mimetype": "text/x-python",
   "name": "python",
   "nbconvert_exporter": "python",
   "pygments_lexer": "ipython3",
   "version": "3.7.0"
  }
 },
 "nbformat": 4,
 "nbformat_minor": 2
}
